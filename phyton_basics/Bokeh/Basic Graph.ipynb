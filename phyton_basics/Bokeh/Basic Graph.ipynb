{
 "cells": [
  {
   "cell_type": "markdown",
   "id": "81a2fb67",
   "metadata": {},
   "source": [
    "### Basic Bokeh Graph"
   ]
  },
  {
   "cell_type": "code",
   "execution_count": 10,
   "id": "ef9a1cec",
   "metadata": {},
   "outputs": [],
   "source": [
    "from bokeh.plotting import figure\n",
    "from bokeh.io import output_file, show\n",
    "\n",
    "x=[3, 7.5, 10]\n",
    "y=[3, 6, 9]\n",
    "\n",
    "#prepare the output file\n",
    "output_file(\"Line.html\")\n",
    "\n",
    "#Create figure objects\n",
    "f=figure()\n",
    "\n",
    "#Create line plot\n",
    "f.circle(x, y)\n",
    "show(f)"
   ]
  },
  {
   "cell_type": "code",
   "execution_count": 29,
   "id": "f7046c6e",
   "metadata": {},
   "outputs": [],
   "source": [
    "from bokeh.plotting import figure\n",
    "from bokeh.io import output_file, show\n",
    "import pandas\n",
    "\n",
    "df=pandas.read_excel(\"http://pythonhow.com/data/verlegenhuken.xlsx\")\n",
    "x=df[\"Temperature\"]\n",
    "y=df[\"Pressure\"]\n",
    "\n",
    "#prepare the output file\n",
    "output_file(\"Line_from_csv.html\")\n",
    "\n",
    "#Create figure objects\n",
    "#f=figure()\n",
    "\n",
    "f=figure(plot_width=1000,plot_height=1000, tools='pan')\n",
    " \n",
    "f.title.text=\"Cool Data\"\n",
    "f.title.text_color=\"Gray\"\n",
    "f.title.text_font=\"times\"\n",
    "f.title.text_font_style=\"bold\"\n",
    "f.xaxis.minor_tick_line_color=None\n",
    "f.yaxis.minor_tick_line_color=None\n",
    "f.xaxis.axis_label=\"Temperature\"\n",
    "f.yaxis.axis_label=\"Pressure\"    \n",
    "\n",
    "#Create line plot\n",
    "f.circle(x, y, size=0.5)\n",
    "show(f)"
   ]
  },
  {
   "cell_type": "code",
   "execution_count": 17,
   "id": "08ad79ef",
   "metadata": {},
   "outputs": [
    {
     "data": {
      "text/html": [
       "<div>\n",
       "<style scoped>\n",
       "    .dataframe tbody tr th:only-of-type {\n",
       "        vertical-align: middle;\n",
       "    }\n",
       "\n",
       "    .dataframe tbody tr th {\n",
       "        vertical-align: top;\n",
       "    }\n",
       "\n",
       "    .dataframe thead th {\n",
       "        text-align: right;\n",
       "    }\n",
       "</style>\n",
       "<table border=\"1\" class=\"dataframe\">\n",
       "  <thead>\n",
       "    <tr style=\"text-align: right;\">\n",
       "      <th></th>\n",
       "      <th>x</th>\n",
       "      <th>y</th>\n",
       "    </tr>\n",
       "  </thead>\n",
       "  <tbody>\n",
       "    <tr>\n",
       "      <th>0</th>\n",
       "      <td>1</td>\n",
       "      <td>6</td>\n",
       "    </tr>\n",
       "    <tr>\n",
       "      <th>1</th>\n",
       "      <td>2</td>\n",
       "      <td>7</td>\n",
       "    </tr>\n",
       "    <tr>\n",
       "      <th>2</th>\n",
       "      <td>3</td>\n",
       "      <td>8</td>\n",
       "    </tr>\n",
       "    <tr>\n",
       "      <th>3</th>\n",
       "      <td>4</td>\n",
       "      <td>9</td>\n",
       "    </tr>\n",
       "    <tr>\n",
       "      <th>4</th>\n",
       "      <td>5</td>\n",
       "      <td>10</td>\n",
       "    </tr>\n",
       "  </tbody>\n",
       "</table>\n",
       "</div>"
      ],
      "text/plain": [
       "   x   y\n",
       "0  1   6\n",
       "1  2   7\n",
       "2  3   8\n",
       "3  4   9\n",
       "4  5  10"
      ]
     },
     "execution_count": 17,
     "metadata": {},
     "output_type": "execute_result"
    }
   ],
   "source": [
    "df"
   ]
  },
  {
   "cell_type": "code",
   "execution_count": 34,
   "id": "ed023fcf",
   "metadata": {},
   "outputs": [],
   "source": [
    "from bokeh.plotting import figure\n",
    "from bokeh.io import output_file, show\n",
    "import pandas\n",
    "\n",
    "df=pandas.read_csv(\"adbe.csv\", parse_dates=[\"Date\"])\n",
    "x=df[\"Date\"]\n",
    "y=df[\"Close\"]\n",
    "\n",
    "f=figure(plot_width=1500,plot_height=500, x_axis_type=\"datetime\")\n",
    "\n",
    "f.line(x, y, color=\"Orange\", alpha=0.5)\n",
    "output_file(\"Timeseries.html\")\n",
    "show(f)"
   ]
  },
  {
   "cell_type": "code",
   "execution_count": null,
   "id": "530c0b81",
   "metadata": {},
   "outputs": [],
   "source": []
  }
 ],
 "metadata": {
  "kernelspec": {
   "display_name": "Python 3 (ipykernel)",
   "language": "python",
   "name": "python3"
  },
  "language_info": {
   "codemirror_mode": {
    "name": "ipython",
    "version": 3
   },
   "file_extension": ".py",
   "mimetype": "text/x-python",
   "name": "python",
   "nbconvert_exporter": "python",
   "pygments_lexer": "ipython3",
   "version": "3.9.6"
  }
 },
 "nbformat": 4,
 "nbformat_minor": 5
}
